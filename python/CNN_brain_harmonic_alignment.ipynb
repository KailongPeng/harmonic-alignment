{
 "cells": [
  {
   "cell_type": "code",
   "execution_count": 2,
   "id": "07b725bc",
   "metadata": {},
   "outputs": [],
   "source": [
    "import numpy as np\n",
    "import matplotlib,os\n",
    "import matplotlib.pyplot as plt\n",
    "import matplotlib.cm\n",
    "from sklearn import preprocessing\n",
    "import pickle\n",
    "import sys\n",
    "import pandas as pd\n",
    "import random\n",
    "from timeit import default_timer as timer\n",
    "from scipy import stats\n",
    "import sklearn\n",
    "from sklearn.decomposition import PCA\n",
    "from sklearn.model_selection import cross_val_predict\n",
    "from sklearn.cross_decomposition import PLSRegression\n",
    "from sklearn.metrics import mean_squared_error, r2_score\n",
    "\n",
    "def save_obj(obj, name):\n",
    "    with open(name + '.pkl', 'wb') as f:\n",
    "        pickle.dump(obj, f, pickle.HIGHEST_PROTOCOL)\n",
    "\n",
    "def load_obj(name):\n",
    "    with open(name + '.pkl', 'rb') as f:\n",
    "        return pickle.load(f)\n",
    "\n",
    "def shuffleRows(arr1):\n",
    "    arr1=list(arr1)\n",
    "    random.shuffle(arr1)\n",
    "    arr1=np.asarray(arr1)\n",
    "    return arr1\n",
    "\n",
    "class Scaling:\n",
    "    def fit(self, train=0, test=0):\n",
    "        self.scaler = sklearn.preprocessing.StandardScaler()  # z = (x - u) / s\n",
    "        self.scaler.fit(train)\n",
    "        self.pcs_train = self.scaler.transform(train) # equivelent with stats.zscore(b, axis=0)\n",
    "        if type(test)!=int:\n",
    "            self.pcs_test = self.scaler.transform(test)\n",
    "\n",
    "class activation_PCA:\n",
    "    def fit(self, X_train=0, X_test=0, num_components=1000):\n",
    "        n_samples, n_features = X_train.shape\n",
    "        self.num_components = min(n_samples, n_features) if num_components > min(n_samples, n_features) else num_components\n",
    "        self.model = PCA(self.num_components)\n",
    "        self.model.fit(X_train)\n",
    "        # print('explained_variance_ratio=',self.model.explained_variance_ratio_)\n",
    "        # principle components are the coefficients that transform original data into principal vectors space.\n",
    "        self.pcs_train = self.model.transform(X_train)\n",
    "        if type(X_test)!=int:\n",
    "            self.pcs_test = self.model.transform(X_test)\n",
    "\n",
    "def zscoreForEachRow(data):\n",
    "    data=data.T\n",
    "    return ((data-np.mean(data,0))/np.std(data,0)).T"
   ]
  },
  {
   "cell_type": "code",
   "execution_count": null,
   "id": "01cd0da7",
   "metadata": {},
   "outputs": [],
   "source": []
  }
 ],
 "metadata": {
  "kernelspec": {
   "display_name": "Python 3 (ipykernel)",
   "language": "python",
   "name": "python3"
  },
  "language_info": {
   "codemirror_mode": {
    "name": "ipython",
    "version": 3
   },
   "file_extension": ".py",
   "mimetype": "text/x-python",
   "name": "python",
   "nbconvert_exporter": "python",
   "pygments_lexer": "ipython3",
   "version": "3.9.0"
  }
 },
 "nbformat": 4,
 "nbformat_minor": 5
}
